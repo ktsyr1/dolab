{
 "cells": [
  {
   "cell_type": "markdown",
   "metadata": {},
   "source": [
    "# researsh build ui fremwork\n",
    "\n"
   ]
  },
  {
   "cell_type": "markdown",
   "metadata": {},
   "source": [
    "## Title box\n"
   ]
  },
  {
   "cell_type": "code",
   "execution_count": null,
   "metadata": {
    "vscode": {
     "languageId": "javascriptreact"
    }
   },
   "outputs": [],
   "source": [
    "<Title title={lang?.maker} ui >\n",
    "    {/*    this code for childre of title page*/}\n",
    "</Title>"
   ]
  },
  {
   "cell_type": "markdown",
   "metadata": {},
   "source": [
    "### attributes\n",
    "\n",
    "**title** : this text \n",
    "\n",
    "**className** : classes in title box\n",
    "\n",
    "**style** : style jsx object\n",
    "\n",
    "**ui** : ui style \n"
   ]
  },
  {
   "cell_type": "markdown",
   "metadata": {},
   "source": [
    "## Input box"
   ]
  },
  {
   "cell_type": "code",
   "execution_count": null,
   "metadata": {
    "vscode": {
     "languageId": "javascriptreact"
    }
   },
   "outputs": [],
   "source": [
    "<Input name=\"name\" placeholder='name' />"
   ]
  },
  {
   "cell_type": "markdown",
   "metadata": {},
   "source": [
    "### attributes\n",
    "\n",
    "**title** : title of the input box\n",
    "\n",
    "**type**:  default: text\n",
    "\n",
    "useing for input all attributes  others\n"
   ]
  },
  {
   "cell_type": "markdown",
   "metadata": {},
   "source": [
    "## Forms box"
   ]
  },
  {
   "cell_type": "code",
   "execution_count": null,
   "metadata": {
    "vscode": {
     "languageId": "javascriptreact"
    }
   },
   "outputs": [],
   "source": [
    "<Forms title='Login' >\n",
    "    {/* other code */}\n",
    "</Forms>"
   ]
  },
  {
   "cell_type": "markdown",
   "metadata": {},
   "source": [
    "### attributes\n",
    "\n",
    "__**title**__ : title in form \n",
    "\n",
    "**classes** : classes in form\n",
    "\n",
    "**style** : style in form , useing jsx style \n",
    "\n",
    "**send** : send function\n",
    "\n",
    "**type** : default is _false_ , useing for full screen or pupup in page\n"
   ]
  }
 ],
 "metadata": {
  "language_info": {
   "name": "python"
  },
  "orig_nbformat": 4
 },
 "nbformat": 4,
 "nbformat_minor": 2
}
