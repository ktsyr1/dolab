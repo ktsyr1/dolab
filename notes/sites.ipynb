{
 "cells": [
  {
   "cell_type": "markdown",
   "metadata": {},
   "source": [
    "# sites\n",
    "\n",
    "[tireex](https://www.tireex.com/) \n",
    "\n",
    "[kaltire](https://www.kaltire.com/)\n",
    "\n",
    "[goodyear](https://www.goodyear.ca/) \n"
   ]
  }
 ],
 "metadata": {
  "language_info": {
   "name": "python"
  },
  "orig_nbformat": 4
 },
 "nbformat": 4,
 "nbformat_minor": 2
}
