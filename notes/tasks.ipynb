{
 "cells": [
  {
   "cell_type": "markdown",
   "metadata": {},
   "source": [
    "# tasks \n",
    "\n",
    "## maker\n",
    "\n",
    "* table\n",
    "    - update \n",
    "    - view to table\n",
    "\n",
    "## **notes** \n",
    " \n",
    "* size 3mb\n",
    "* unite resize image \n",
    "* async lang context \n",
    "\n",
    "## tires\n",
    "\n",
    "<!-- * add -->\n",
    "* remove\n",
    "* update\n",
    "* view\n",
    " \n",
    "\n",
    "## search\n",
    "\n",
    "* get \n"
   ]
  }
 ],
 "metadata": {
  "language_info": {
   "name": "python"
  },
  "orig_nbformat": 4
 },
 "nbformat": 4,
 "nbformat_minor": 2
}
