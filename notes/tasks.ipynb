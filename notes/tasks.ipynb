{
 "cells": [
  {
   "cell_type": "markdown",
   "metadata": {},
   "source": [
    "# tasks \n",
    "\n",
    "## maker\n",
    "\n",
    "* add \n",
    "* table\n",
    "    - update\n",
    "    - remove\n",
    "\n",
    "## **notes** \n",
    "\n",
    "* formats png, jpg, gif, svg\n",
    "* size 3mb\n",
    "* unite resize image \n",
    "* async lang context \n",
    "\n",
    "## tires\n",
    "\n",
    "<!-- * add -->\n",
    "* remove\n",
    "* update\n",
    "* view\n",
    " \n",
    "\n",
    "## search\n",
    "\n",
    "* get \n"
   ]
  }
 ],
 "metadata": {
  "language_info": {
   "name": "python"
  },
  "orig_nbformat": 4
 },
 "nbformat": 4,
 "nbformat_minor": 2
}
