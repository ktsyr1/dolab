{
 "cells": [
  {
   "cell_type": "markdown",
   "metadata": {},
   "source": [
    "# tasks \n",
    "\n",
    "## Bugs\n",
    "maker not view model for edit mod\n",
    "inputs\n",
    "maker delete and full bugs\n",
    "nav menu\n",
    "## **notes**  \n",
    "\n",
    "    - images\n",
    "* unite resize image  \n",
    "\n",
    "## tires\n",
    "\n",
    "<!-- * add -->\n",
    "* remove\n",
    "* update\n",
    "* view\n",
    " \n",
    "\n",
    "## search\n",
    "\n",
    "* get \n"
   ]
  }
 ],
 "metadata": {
  "language_info": {
   "name": "python"
  },
  "orig_nbformat": 4
 },
 "nbformat": 4,
 "nbformat_minor": 2
}
